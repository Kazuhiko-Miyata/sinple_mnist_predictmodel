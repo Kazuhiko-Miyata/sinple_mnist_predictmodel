{
  "nbformat": 4,
  "nbformat_minor": 0,
  "metadata": {
    "colab": {
      "provenance": [],
      "authorship_tag": "ABX9TyO9j+5svzgjtuH1e7j8BKAe",
      "include_colab_link": true
    },
    "kernelspec": {
      "name": "python3",
      "display_name": "Python 3"
    },
    "language_info": {
      "name": "python"
    }
  },
  "cells": [
    {
      "cell_type": "markdown",
      "metadata": {
        "id": "view-in-github",
        "colab_type": "text"
      },
      "source": [
        "<a href=\"https://colab.research.google.com/github/Kazuhiko-Miyata/sinple_mnist_predictmodel/blob/main/sinple_mnist_predictmodel.ipynb\" target=\"_parent\"><img src=\"https://colab.research.google.com/assets/colab-badge.svg\" alt=\"Open In Colab\"/></a>"
      ]
    },
    {
      "cell_type": "markdown",
      "source": [
        "## **手書き文字画像の確認**\n",
        "「scikit-learn」というライブラリから手書き数字の画像データを読み込み表示させる。\n",
        "\n",
        "画像サイズは8*8ピクセルでモノクロ。"
      ],
      "metadata": {
        "id": "ckBoJUiIIrdH"
      }
    },
    {
      "cell_type": "code",
      "source": [
        "import matplotlib.pyplot as plt\n",
        "from sklearn import datasets\n",
        "\n",
        "digits_data = datasets.load_digits()\n",
        "\n",
        "n_img = 10 #表示する画像の数\n",
        "plt.figure(figsize=(10, 4))\n",
        "for i in range(n_img):\n",
        "    ax = plt.subplot(2, 5, i+1)\n",
        "    ax.imshow(digits_data.data[i].reshape(8, 8), cmap=\"Greys_r\")\n",
        "    ax.get_xaxis().set_visible(False) #軸を非表示に\n",
        "    ax.get_yaxis().set_visible(False)\n",
        "plt.show()\n",
        "\n",
        "print(\"データの形状:\", digits_data.data.shape)\n",
        "print(\"ラベル:\", digits_data.target[:n_img])"
      ],
      "metadata": {
        "colab": {
          "base_uri": "https://localhost:8080/",
          "height": 320
        },
        "id": "9bh6V4aiJBiE",
        "outputId": "2786e60f-4fd5-4a34-a5e7-5f9ec9f4237d"
      },
      "execution_count": 10,
      "outputs": [
        {
          "output_type": "display_data",
          "data": {
            "text/plain": [
              "<Figure size 1000x400 with 10 Axes>"
            ],
            "image/png": "[encoded data removed]"
          },
          "metadata": {}
        },
        {
          "output_type": "stream",
          "name": "stdout",
          "text": [
            "データの形状: (1797, 64)\n",
            "ラベル: [0 1 2 3 4 5 6 7 8 9]\n"
          ]
        }
      ]
    },
    {
      "cell_type": "markdown",
      "source": [
        "8*8ピクセルとサイズは小さいが、0から9までの手書き数字の画像が表示された。このような手書き数字の画像が、このデータセットには1797枚含まれている。\n",
        "\n",
        "また、各画像は書かれた数字を表すラベルとペアになっている。今回はこのラベルを正解として使用。"
      ],
      "metadata": {
        "id": "rWNQbMOIMjd8"
      }
    },
    {
      "cell_type": "markdown",
      "source": [
        "**データを訓練用とテスト用に分割**\n",
        "\n",
        "scikit-learnのtrain_test_splitを使って、データを訓練用とテスト用に分割する。訓練データを使ってニューラルネットワークのモデルを訓練し、テストデータを使って訓練したモデルを検証する。"
      ],
      "metadata": {
        "id": "iL9kyMPbM6Ox"
      }
    },
    {
      "cell_type": "code",
      "source": [
        "import torch\n",
        "from sklearn.model_selection import train_test_split\n",
        "\n",
        "digit_images = digits_data.data\n",
        "labels = digits_data.target\n",
        "x_train, x_test, t_train, t_test = train_test_split(digit_images, labels)#25%がテスト用\n",
        "\n",
        "#Tensorに変換\n",
        "x_train = torch.tensor(x_train, dtype=torch.float32)\n",
        "#入力:訓練用\n",
        "t_train = torch.tensor(t_train, dtype=torch.int64)\n",
        "#正解:訓練用\n",
        "x_test = torch.tensor(x_test, dtype=torch.float32)\n",
        "#入力:テスト用\n",
        "t_test = torch.tensor(t_test, dtype=torch.int64)\n",
        "#正解:テスト用"
      ],
      "metadata": {
        "id": "p7WX3qoPNRnE"
      },
      "execution_count": 11,
      "outputs": []
    },
    {
      "cell_type": "markdown",
      "source": [
        "## **モデルの構築**\n",
        "nnモジュールの**Sequential()クラス**によりニューラルネットワークのモデルを構築する。初期値としてnnモジュールに定義されている層を入力に近い層から順番に並べる。\n",
        "\n",
        "**nn.Linear()関数**はニューロンが隣接する層のすべてのニューロンとつながる「全結合層」で、以下のように記述する\n",
        "\n",
        "\n",
        "\n",
        "```\n",
        "nn.Linear(#層への入力数, #層のニューロン数)\n",
        "```\n",
        "\n",
        "\n",
        "また、nnモジュールでは活性化関数を層のように扱うことができる。\n",
        "**nn.ReLU()関数**を配置することで、活性化関数ReLUによる処理が行われる。\n",
        "\n"
      ],
      "metadata": {
        "id": "NCIwSKuHR50x"
      }
    },
    {
      "cell_type": "code",
      "source": [
        "from torch import nn\n",
        "\n",
        "net = nn.Sequential(\n",
        "    nn.Linear(64, 32),#全結合層\n",
        "    nn.ReLU(),\n",
        "    nn.Linear(32, 16),\n",
        "    nn.ReLU(),\n",
        "    nn.Linear(16, 10)\n",
        ")\n",
        "print(net)"
      ],
      "metadata": {
        "colab": {
          "base_uri": "https://localhost:8080/"
        },
        "id": "OnvN1XAzVlmn",
        "outputId": "f67f1191-89e1-4a38-fa9b-2bb80dc0648e"
      },
      "execution_count": 12,
      "outputs": [
        {
          "output_type": "stream",
          "name": "stdout",
          "text": [
            "Sequential(\n",
            "  (0): Linear(in_features=64, out_features=32, bias=True)\n",
            "  (1): ReLU()\n",
            "  (2): Linear(in_features=32, out_features=16, bias=True)\n",
            "  (3): ReLU()\n",
            "  (4): Linear(in_features=16, out_features=10, bias=True)\n",
            ")\n"
          ]
        }
      ]
    },
    {
      "cell_type": "markdown",
      "source": [
        "3つの結合層の間に、活性化関数ReLUが挟まれている。最後の出力層のニューロン数は10だが、これは分類する数字が0～9なので10クラス分類になるため。"
      ],
      "metadata": {
        "id": "7Fgh4l0rWN2E"
      }
    },
    {
      "cell_type": "markdown",
      "source": [
        "## **学習**\n",
        "誤差を最小化するように、パラメータを何度も繰り返し調整する。今回は損失関数に**nn.CrossEntropyLoss()関数**（ソフトマックス関数＋交差エントロピー関数）を、最適化アルゴリズムにSDGを設定する。\n",
        "\n",
        "\n",
        "順伝播は訓練データ、テストデータ両者で行い誤差を計算する。逆伝播を行うのは訓練データのみ。"
      ],
      "metadata": {
        "id": "HX97AQ6NWgdO"
      }
    },
    {
      "cell_type": "code",
      "source": [
        "from torch import optim\n",
        "\n",
        "#ソフトマックス関数+交差エントロピー関数\n",
        "loss_fnc = nn.CrossEntropyLoss()\n",
        "\n",
        "#SDG　モデルのパラメータを渡す\n",
        "optimizer = optim.SGD(net.parameters(), lr=0.01) #学習率は0.01\n",
        "\n",
        "#損失のログ\n",
        "record_loss_train = []\n",
        "record_loss_test = []\n",
        "\n",
        "#訓練データを1000回使う\n",
        "for i in range(1000):\n",
        "  #パラメータの勾配を0に\n",
        "  optimizer.zero_grad()\n",
        "\n",
        "  #順伝播\n",
        "  y_train = net(x_train)\n",
        "  y_test = net(x_test)\n",
        "\n",
        "  #誤差を求めて記録する\n",
        "  loss_train = loss_fnc(y_train, t_train)\n",
        "  loss_test = loss_fnc(y_test, t_test)\n",
        "  record_loss_train.append(loss_train.item())\n",
        "  record_loss_test.append(loss_test.item())\n",
        "\n",
        "  #逆伝播\n",
        "  loss_train.backward()\n",
        "\n",
        "  #パラメータの更新\n",
        "  optimizer.step()\n",
        "\n",
        "  if i%100 == 0: #100回ごとに経過を表示\n",
        "      print(\"Epoch:\", i, \"Loss_Train:\", loss_train.item(), \"Loss_Test:\", loss_test.item())\n"
      ],
      "metadata": {
        "colab": {
          "base_uri": "https://localhost:8080/"
        },
        "id": "Do7hyuQKXE5p",
        "outputId": "dcf6adb2-05dd-49f5-db95-d04862246ab8"
      },
      "execution_count": 13,
      "outputs": [
        {
          "output_type": "stream",
          "name": "stdout",
          "text": [
            "Epoch: 0 Loss_Train: 2.5574281215667725 Loss_Test: 2.5960533618927\n",
            "Epoch: 100 Loss_Train: 0.9915700554847717 Loss_Test: 1.0731433629989624\n",
            "Epoch: 200 Loss_Train: 0.4722011685371399 Loss_Test: 0.5472731590270996\n",
            "Epoch: 300 Loss_Train: 0.29404833912849426 Loss_Test: 0.3681710362434387\n",
            "Epoch: 400 Loss_Train: 0.2070455700159073 Loss_Test: 0.28641486167907715\n",
            "Epoch: 500 Loss_Train: 0.15785980224609375 Loss_Test: 0.24334248900413513\n",
            "Epoch: 600 Loss_Train: 0.1258610039949417 Loss_Test: 0.2191070020198822\n",
            "Epoch: 700 Loss_Train: 0.10367681086063385 Loss_Test: 0.205204576253891\n",
            "Epoch: 800 Loss_Train: 0.08774108439683914 Loss_Test: 0.19654275476932526\n",
            "Epoch: 900 Loss_Train: 0.07562911510467529 Loss_Test: 0.191375270485878\n"
          ]
        }
      ]
    },
    {
      "cell_type": "markdown",
      "source": [
        "以下の個所では**順伝播**の処理が行われる\n",
        "\n",
        "\n",
        "\n",
        "```\n",
        "y_train = net(x_train)\n",
        "\n",
        "y_test = net(x_test\n",
        "```\n",
        "\n",
        "以下の個所では**逆伝播**の処理が行われる\n",
        "\n",
        "\n",
        "```\n",
        "loss_train.backward()\n",
        "```\n",
        "\n",
        "誤差（loss_train）のbackward()メソッドによりバックプロパゲーションが行われてすべてのパラメータに勾配が計算される。\n",
        "\n",
        "以下の記述で最適化アルゴリズムに基づいてすべてのパラメータが更新される\n",
        "\n",
        "\n",
        "```\n",
        "optimizer.step()\n",
        "```\n",
        "\n",
        "順伝播、逆伝播、パラメータの更新を繰り返すことで、モデルは次第に適切な出力を返すように訓練される。\n",
        "\n",
        "\n"
      ],
      "metadata": {
        "id": "gCj04ywSchry"
      }
    },
    {
      "cell_type": "markdown",
      "source": [
        "## **誤差の推移**\n",
        "訓練データ、テストデータの記録を、matplotlibを使ってグラフ表示する。"
      ],
      "metadata": {
        "id": "OUP31CyWeWC7"
      }
    },
    {
      "cell_type": "code",
      "source": [
        "plt.plot(range(len(record_loss_train)),\n",
        "         record_loss_train, label=\"Train\")\n",
        "plt.plot(range(len(record_loss_test)),\n",
        "         record_loss_test, label=\"Test\")\n",
        "\n",
        "plt.legend()\n",
        "\n",
        "plt.xlabel(\"Epochs\")\n",
        "plt.ylabel(\"Error\")\n",
        "plt.show()"
      ],
      "metadata": {
        "colab": {
          "base_uri": "https://localhost:8080/",
          "height": 449
        },
        "id": "ZlFAM9FOLJTR",
        "outputId": "fc517358-0192-4bf2-ca2a-4957d4077a0a"
      },
      "execution_count": 14,
      "outputs": [
        {
          "output_type": "display_data",
          "data": {
            "text/plain": [
              "<Figure size 640x480 with 1 Axes>"
            ],
            "image/png": "[encoded data removed]"
          },
          "metadata": {}
        }
      ]
    },
    {
      "cell_type": "markdown",
      "source": [
        "## **正解率**\n",
        "モデルの性能を把握するため、テストデータを使って正解率を測定"
      ],
      "metadata": {
        "id": "HGXRCb_LL2p4"
      }
    },
    {
      "cell_type": "code",
      "source": [
        "y_test = net(x_test)\n",
        "count = (y_test.argmax(1) == t_test).sum().item()\n",
        "print(\"正解率:\", str(count/len(y_test)*100) + \"%\")"
      ],
      "metadata": {
        "colab": {
          "base_uri": "https://localhost:8080/"
        },
        "id": "CxeWMX83Qu9h",
        "outputId": "0f23808e-b909-48e4-dd17-5efd48018971"
      },
      "execution_count": 15,
      "outputs": [
        {
          "output_type": "stream",
          "name": "stdout",
          "text": [
            "正解率: 94.88888888888889%\n"
          ]
        }
      ]
    },
    {
      "cell_type": "markdown",
      "source": [
        "## **訓練済みのモデルを使った予測**\n",
        "手書き文字画像を入力し、モデルが機能する事を確認"
      ],
      "metadata": {
        "id": "dBCBCISLRW45"
      }
    },
    {
      "cell_type": "code",
      "source": [
        "#入力画像\n",
        "img_id = 1 #予測したい数値を入力\n",
        "x_pred = digit_images[img_id]\n",
        "image = x_pred.reshape(8, 8)\n",
        "plt.imshow(image, cmap=\"Greys_r\")\n",
        "plt.show()\n",
        "\n",
        "x_pred = torch.tensor(x_pred, dtype=torch.float32)\n",
        "y_pred = net(x_pred)\n",
        "print(\"正解率:\", labels[img_id], \"予測結果:\", y_pred.argmax().item())"
      ],
      "metadata": {
        "colab": {
          "base_uri": "https://localhost:8080/",
          "height": 448
        },
        "id": "0P_71yVDRhak",
        "outputId": "cd2d1e98-12aa-446e-a5d6-f22173becb6a"
      },
      "execution_count": 16,
      "outputs": [
        {
          "output_type": "display_data",
          "data": {
            "text/plain": [
              "<Figure size 640x480 with 1 Axes>"
            ],
            "image/png": "[encoded data removed]"
          },
          "metadata": {}
        },
        {
          "output_type": "stream",
          "name": "stdout",
          "text": [
            "正解率: 1 予測結果: 1\n"
          ]
        }
      ]
    },
    {
      "cell_type": "markdown",
      "source": [
        "訓練済みモデルは、入力画像を正しく分類できている。"
      ],
      "metadata": {
        "id": "tmm1lovgSg0n"
      }
    },
    {
      "cell_type": "markdown",
      "source": [
        "# **演習**\n",
        "### **データを訓練用とテスト用に分割**\n",
        "データを訓練用とテスト用に分割する"
      ],
      "metadata": {
        "id": "k_HB505XSyvF"
      }
    },
    {
      "cell_type": "code",
      "source": [
        "import torch\n",
        "from sklearn import datasets\n",
        "from sklearn.model_selection import train_test_split\n",
        "\n",
        "digits_data = datasets.load_digits()\n",
        "\n",
        "digit_images = digits_data.data\n",
        "labels =digits_data.target\n",
        "x_train, x_test, t_train, t_test = train_test_split(digit_images, labels)\n",
        "\n",
        "x_train = torch.tensor(x_train, dtype=torch.float32)\n",
        "t_train = torch.tensor(t_train, dtype=torch.int64)\n",
        "x_test = torch.tensor(x_test, dtype=torch.float32)\n",
        "t_test = torch.tensor(t_test, dtype=torch.int64)\n"
      ],
      "metadata": {
        "id": "ntNsnvnHWfcm"
      },
      "execution_count": 17,
      "outputs": []
    },
    {
      "cell_type": "markdown",
      "source": [
        "**モデルの構築**"
      ],
      "metadata": {
        "id": "Fsh2MmKYYG7f"
      }
    },
    {
      "cell_type": "code",
      "source": [
        "from torch import nn\n",
        "\n",
        "net = nn.Sequential(\n",
        "      nn.Linear(64, 128),\n",
        "      nn.ReLU(),\n",
        "      nn.Linear(128, 64),\n",
        "      nn.ReLU(),\n",
        "      nn.Linear(64, 10),\n",
        ")\n",
        "print(net)"
      ],
      "metadata": {
        "colab": {
          "base_uri": "https://localhost:8080/"
        },
        "id": "7DzU0gsPZdSF",
        "outputId": "8d2991f6-ac03-42be-af7b-c5db65a3b601"
      },
      "execution_count": 18,
      "outputs": [
        {
          "output_type": "stream",
          "name": "stdout",
          "text": [
            "Sequential(\n",
            "  (0): Linear(in_features=64, out_features=128, bias=True)\n",
            "  (1): ReLU()\n",
            "  (2): Linear(in_features=128, out_features=64, bias=True)\n",
            "  (3): ReLU()\n",
            "  (4): Linear(in_features=64, out_features=10, bias=True)\n",
            ")\n"
          ]
        }
      ]
    },
    {
      "cell_type": "markdown",
      "source": [
        "## **学習**"
      ],
      "metadata": {
        "id": "go6JwhH9ae19"
      }
    },
    {
      "cell_type": "code",
      "source": [
        "from torch import optim\n",
        "\n",
        "#交差エントロピー誤差関数\n",
        "loss_fcn = nn.CrossEntropyLoss()\n",
        "\n",
        "#最適化アルゴリズム\n",
        "optimizer = optim.SGD(net.parameters(), lr=0.001)\n",
        "\n",
        "#損失のログ\n",
        "record_loss_train = []\n",
        "record_loss_test = []\n",
        "\n",
        "#1000エポック学習\n",
        "for i in range(1000):\n",
        "\n",
        "    #勾配を0に\n",
        "    optimizer.zero_grad()\n",
        "\n",
        "    #順伝播\n",
        "    y_train = net(x_train)\n",
        "    y_test = net(x_test)\n",
        "\n",
        "    #誤差を求める\n",
        "    loss_train = loss_fnc(y_train, t_train)\n",
        "    loss_test = loss_fnc(y_test, t_test)\n",
        "    record_loss_train.append(loss_train.item())\n",
        "    record_loss_test.append(loss_test.item())\n",
        "\n",
        "    #逆伝播(勾配を求める)\n",
        "    loss_train.backward()\n",
        "\n",
        "    #パラメータの更新\n",
        "    optimizer.step()\n",
        "\n",
        "    if i%100 ==0:\n",
        "        print(\"Epoch:\", i, \"Loss_Train:\", loss_train.item(), \"Loss_test:\", loss_test.item())"
      ],
      "metadata": {
        "colab": {
          "base_uri": "https://localhost:8080/"
        },
        "id": "jGku9C3AaiUy",
        "outputId": "b215697d-33b0-484e-d628-40d0f646144e"
      },
      "execution_count": 19,
      "outputs": [
        {
          "output_type": "stream",
          "name": "stdout",
          "text": [
            "Epoch: 0 Loss_Train: 2.568513870239258 Loss_test: 2.512409210205078\n",
            "Epoch: 100 Loss_Train: 1.8935661315917969 Loss_test: 1.877031922340393\n",
            "Epoch: 200 Loss_Train: 1.522770881652832 Loss_test: 1.5157370567321777\n",
            "Epoch: 300 Loss_Train: 1.2006944417953491 Loss_test: 1.2010830640792847\n",
            "Epoch: 400 Loss_Train: 0.9454972743988037 Loss_test: 0.9528270959854126\n",
            "Epoch: 500 Loss_Train: 0.7629024982452393 Loss_test: 0.7755266427993774\n",
            "Epoch: 600 Loss_Train: 0.6332455277442932 Loss_test: 0.6497853994369507\n",
            "Epoch: 700 Loss_Train: 0.538990318775177 Loss_test: 0.5592434406280518\n",
            "Epoch: 800 Loss_Train: 0.46870318055152893 Loss_test: 0.49262210726737976\n",
            "Epoch: 900 Loss_Train: 0.41481634974479675 Loss_test: 0.44226688146591187\n"
          ]
        }
      ]
    },
    {
      "cell_type": "markdown",
      "source": [
        "## **誤差の推移**"
      ],
      "metadata": {
        "id": "FbZhBpC1frLF"
      }
    },
    {
      "cell_type": "code",
      "source": [
        "import matplotlib.pyplot as plt\n",
        "\n",
        "plt.plot(range(len(record_loss_train)), record_loss_train, label=\"Train\")\n",
        "plt.plot(range(len(record_loss_test)), record_loss_test, label=\"Test\")\n",
        "plt.legend()\n",
        "\n",
        "plt.xlabel(\"Epochs\")\n",
        "plt.ylabel(\"Error\")\n",
        "plt.show()"
      ],
      "metadata": {
        "colab": {
          "base_uri": "https://localhost:8080/",
          "height": 449
        },
        "id": "c4HGQTbAfv82",
        "outputId": "fe048127-513d-4d3a-8a0b-2871b0db4a7b"
      },
      "execution_count": 20,
      "outputs": [
        {
          "output_type": "display_data",
          "data": {
            "text/plain": [
              "<Figure size 640x480 with 1 Axes>"
            ],
            "image/png": "[encoded data removed]"
          },
          "metadata": {}
        }
      ]
    },
    {
      "cell_type": "markdown",
      "source": [
        "## **正解率**"
      ],
      "metadata": {
        "id": "CwexPztQglyJ"
      }
    },
    {
      "cell_type": "code",
      "source": [
        "y_test = net(x_test)\n",
        "count = (y_test.argmax(1) == t_test).sum().item()\n",
        "print(\"正解率:\", str(count/len(y_test)*100) + \"%\")"
      ],
      "metadata": {
        "colab": {
          "base_uri": "https://localhost:8080/"
        },
        "id": "Vc7-RDzHgn3F",
        "outputId": "080e625b-036c-4410-d30b-c2dd35f9ff0d"
      },
      "execution_count": 21,
      "outputs": [
        {
          "output_type": "stream",
          "name": "stdout",
          "text": [
            "正解率: 92.22222222222223%\n"
          ]
        }
      ]
    }
  ]
}